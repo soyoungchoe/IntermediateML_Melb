{
 "cells": [
  {
   "cell_type": "markdown",
   "id": "fd55b59a",
   "metadata": {},
   "source": [
    "# Cross Validation\n",
    "Kaggle Machine Learning Intermediate Course: \n",
    "https://www.kaggle.com/code/alexisbcook/cross-validation"
   ]
  },
  {
   "cell_type": "code",
   "execution_count": 1,
   "id": "e3092786",
   "metadata": {},
   "outputs": [],
   "source": [
    "import pandas as pd\n",
    "\n",
    "# Read the data\n",
    "data = pd.read_csv('melb_data.csv')\n",
    "\n",
    "# Select subset of predictors\n",
    "cols_to_use = ['Rooms', 'Distance', 'Landsize', 'BuildingArea', 'YearBuilt']\n",
    "X = data[cols_to_use]\n",
    "\n",
    "# Select target\n",
    "y = data.Price"
   ]
  },
  {
   "cell_type": "markdown",
   "id": "7b094751",
   "metadata": {},
   "source": [
    "## Define Pipeline\n",
    "uses imputer to fill in missing values and a random forest model to make predictions."
   ]
  },
  {
   "cell_type": "code",
   "execution_count": 2,
   "id": "34fa2306",
   "metadata": {},
   "outputs": [],
   "source": [
    "from sklearn.ensemble import RandomForestRegressor\n",
    "from sklearn.pipeline import Pipeline\n",
    "from sklearn.impute import SimpleImputer\n",
    "\n",
    "my_pipeline = Pipeline(steps=[('preprocessor', SimpleImputer()),\n",
    "                             ('model', RandomForestRegressor(n_estimators=50, random_state=0))\n",
    "                              ])"
   ]
  },
  {
   "cell_type": "markdown",
   "id": "06747a89",
   "metadata": {},
   "source": [
    "## Cross Validation\n",
    "- use `cross_val_scores()` function from scikit-learn\n",
    "- set the number of folds with the `cv` parameter"
   ]
  },
  {
   "cell_type": "code",
   "execution_count": 3,
   "id": "9f46eb39",
   "metadata": {},
   "outputs": [
    {
     "name": "stdout",
     "output_type": "stream",
     "text": [
      "MAE scores:\n",
      " [301628.7893587  303164.4782723  287298.331666   236061.84754543\n",
      " 260383.45111427]\n"
     ]
    }
   ],
   "source": [
    "from sklearn.model_selection import cross_val_score\n",
    "\n",
    "# Mulitply by -1 since sklearn calculations *negative* MAE\n",
    "scores = -1 * cross_val_score(my_pipeline, X, y, \n",
    "                             cv=5,\n",
    "                             scoring='neg_mean_absolute_error')\n",
    "print(\"MAE scores:\\n\", scores)"
   ]
  },
  {
   "cell_type": "markdown",
   "id": "b2e81d8e",
   "metadata": {},
   "source": [
    "The `scoring` parameter chooses a measure of model quality to report: in this case, we chose negative mean absolute error(MAE). \n",
    "Scikit-learn has a convention where all metrics are defined so a high number is better. Using negatives here allows them to be consistent with that convention, though negative MAE is almost unheard of elsewhere. "
   ]
  },
  {
   "cell_type": "markdown",
   "id": "8af820ac",
   "metadata": {},
   "source": [
    "## Average MAE score"
   ]
  },
  {
   "cell_type": "code",
   "execution_count": 4,
   "id": "7401158e",
   "metadata": {},
   "outputs": [
    {
     "name": "stdout",
     "output_type": "stream",
     "text": [
      "Average MAE score (across experiments):\n",
      "277707.3795913405\n"
     ]
    }
   ],
   "source": [
    "print(\"Average MAE score (across experiments):\")\n",
    "print(scores.mean())"
   ]
  },
  {
   "cell_type": "code",
   "execution_count": null,
   "id": "375b716a",
   "metadata": {},
   "outputs": [],
   "source": []
  }
 ],
 "metadata": {
  "kernelspec": {
   "display_name": "Python 3 (ipykernel)",
   "language": "python",
   "name": "python3"
  },
  "language_info": {
   "codemirror_mode": {
    "name": "ipython",
    "version": 3
   },
   "file_extension": ".py",
   "mimetype": "text/x-python",
   "name": "python",
   "nbconvert_exporter": "python",
   "pygments_lexer": "ipython3",
   "version": "3.11.5"
  }
 },
 "nbformat": 4,
 "nbformat_minor": 5
}
